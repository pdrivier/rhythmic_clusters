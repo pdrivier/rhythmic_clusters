{
 "cells": [
  {
   "cell_type": "markdown",
   "id": "2a34dd2d",
   "metadata": {},
   "source": [
    "# compare LFP low gamma amplitudes across behavioral epochs\n",
    "Low gamma is where we see a difference in spike-phase relationships as a function of behavioral state, so we just want to know here whether the LFP amplitudes also differ, or whether they are similar overall."
   ]
  },
  {
   "cell_type": "code",
   "execution_count": 4,
   "id": "9332edb8",
   "metadata": {},
   "outputs": [
    {
     "name": "stdout",
     "output_type": "stream",
     "text": [
      "Once deleted, variables cannot be recovered. Proceed (y/[n])? y\n",
      "The autoreload extension is already loaded. To reload it, use:\n",
      "  %reload_ext autoreload\n"
     ]
    }
   ],
   "source": [
    "%reset\n",
    "%load_ext autoreload\n",
    "%matplotlib inline\n",
    "%config InlineBackend.figure_format = 'retina'\n",
    "\n",
    "import matplotlib.pyplot as plt\n",
    "import numpy as np\n",
    "import os\n",
    "import pandas as pd\n",
    "import re\n",
    "import scipy.stats as stats\n",
    "import seaborn as sns\n",
    "\n",
    "from scipy.signal import hilbert\n",
    "from scipy.stats import sem\n",
    "from tqdm.notebook import tqdm\n",
    "\n",
    "sns.set(font_scale=2,style='whitegrid')\n"
   ]
  },
  {
   "cell_type": "code",
   "execution_count": 5,
   "id": "95e0f98e",
   "metadata": {},
   "outputs": [],
   "source": [
    "def get_neuron_cols(df,neuron_expression):\n",
    "    \"\"\"df: dataframe containing columns corresponding to neuron spiketimes\"\"\"\n",
    "    \n",
    "    pattern = re.compile(neuron_expression)\n",
    "    neuron_cols = []\n",
    "    for s in df.columns:\n",
    "\n",
    "        matched = pattern.match(s)\n",
    "        is_match = bool(matched)\n",
    "\n",
    "        if is_match:\n",
    "\n",
    "            neuron_cols.append(matched.string)\n",
    "    \n",
    "    return neuron_cols\n",
    "\n",
    "def get_allowable_lfp_wires(neuron_id,split_on):\n",
    "    \"\"\"neuron_id: string, e.g. TETSPK53b\n",
    "    split_on: string, e.g. 'K', you will use this to exclude the unit letter from neuron_id\"\"\"\n",
    "\n",
    "    #figure out who is the corresponding LFP for this neuron, must be on same tetrode!\n",
    "    unit_wirenum = neuron.split(split_on)[1]\n",
    "    unit_wirenum = unit_wirenum[:-1]\n",
    "    if len(unit_wirenum) > 2:\n",
    "        unit_wirenum = unit_wirenum[:2]\n",
    "    allow_wire = [int(unit_wirenum), int(unit_wirenum) + 1, int(unit_wirenum) + 2, int(unit_wirenum) + 3]\n",
    "    allow_wire = [str(w) for w in allow_wire]\n",
    "    allow_wire = ['0'+w if int(w)<10 else w for w in allow_wire]\n",
    "    \n",
    "    return allow_wire\n",
    "\n",
    "def get_lfp_cols(df,lfp_expression):\n",
    "    \"\"\"df: dataframe containing columns corresponding to neuron spiketimes\n",
    "    lfp_expression: string, e.g.\"\"\"\n",
    "#example lfp_expression =  \"TETFP\"+allow_wire[0]+\"\\Z|TETFP\"+allow_wire[1]+\"\\Z|TETFP\"+allow_wire[2]+\"\\Z|TETFP\"+allow_wire[3]+\"\\Z\"\n",
    "        \n",
    "    pattern = re.compile(lfp_expression)\n",
    "    lfp_cols = []\n",
    "    for s in df.columns:\n",
    "\n",
    "        matched = pattern.match(s)\n",
    "        is_match = bool(matched)\n",
    "\n",
    "        if is_match:\n",
    "\n",
    "            lfp_cols.append(matched.string)\n",
    "\n",
    "    return lfp_cols\n",
    "\n",
    "def zscore_spectrogram(raw_spec):\n",
    "    \"\"\"raw_spec: n x m, where n is frequencies and m is time--important \n",
    "                 because you need to make sure that you find the mean and std\n",
    "                 across the time dimension\"\"\"\n",
    "    \n",
    "    nfreqs = np.size(raw_spec,0)\n",
    "    ntimesamps = np.size(raw_spec,1)\n",
    "    \n",
    "    meanf = np.mean(np.abs(raw_spec),axis=1)\n",
    "    stdf = np.std(np.abs(raw_spec),axis=1)\n",
    "    \n",
    "    z_spec = np.zeros((nfreqs,ntimesamps))\n",
    "    for ind,m in enumerate(meanf):\n",
    "        \n",
    "        z_spec[ind,:] = (np.abs(raw_spec[ind,:]) - m) / stdf[ind]\n",
    "        \n",
    "        \n",
    "    return z_spec\n",
    "\n",
    "def compute_thetapeak_spectros(df,lfpname,pre_post_wintime,\n",
    "                               plot_maxfreq,colormap,peak_morlet_freq,\n",
    "                               fs,morlet_w,plot_raw_or_z,\n",
    "                               cmin,cmax,plot_pre_post_wintime,\n",
    "                               savefig\n",
    "                              ): \n",
    "    \"\"\"df: subsess = all_lfp[all_lfp['ratsession_id']==ratsession].dropna(axis=1)\n",
    "           subcondition = subsess[subsess['odor_labels']==odor] \n",
    "       lfpname: e.g. 'TETFP21' \n",
    "       pre_post_wintime: scalar, e.g. 250\n",
    "       plot_raw_or_z: 'raw' or 'zscored', to decide which plot to output\"\"\"\n",
    "    \n",
    "    peak_locs, _ = find_peaks(df[lfpname+'filt_theta'],height=0)\n",
    "    \n",
    "    #now that you have the locations of the peaks, you'll want to find the 250 ms before and after\n",
    "\n",
    "    gather_dfs = []\n",
    "    theta_winlabel = []\n",
    "    count = 0\n",
    "    for i in peak_locs:\n",
    "\n",
    "        if (i - pre_post_wintime >= 0) & ((i + pre_post_wintime) <= df.shape[0]):\n",
    "\n",
    "            theta_winlabel = np.repeat(count,df.shape[0])\n",
    "            df['window_labels'] = theta_winlabel\n",
    "            gather_dfs.append(df.iloc[i-pre_post_wintime:i+pre_post_wintime])\n",
    "\n",
    "            count += 1\n",
    "\n",
    "    thetapeak_df = pd.concat(gather_dfs)\n",
    "    \n",
    "    #now compute the spectrogram for each window, then average them\n",
    "    window_labels = list(set(thetapeak_df['window_labels']))\n",
    "    \n",
    "    #complex morlet wavelet params\n",
    "    fs = fs\n",
    "    w = morlet_w\n",
    "    t = np.arange(-pre_post_wintime,pre_post_wintime)\n",
    "    freq = np.linspace(1, fs/2, peak_morlet_freq)\n",
    "    widths = w*fs / (2*freq*np.pi)\n",
    "    \n",
    "    datalen = pre_post_wintime*2\n",
    "\n",
    "    gather_theta_filts = np.zeros((max(window_labels)+1,datalen))\n",
    "    gather_spectros = np.zeros((max(window_labels)+1,len(widths),datalen)) #this will break if you change the nperseg\n",
    "    gather_z_spectros = np.zeros((max(window_labels)+1,len(widths),datalen))\n",
    "    for window in window_labels: \n",
    "\n",
    "        subw = thetapeak_df[thetapeak_df['window_labels'] == window]\n",
    "\n",
    "        #get the wavelet spectrograms\n",
    "        sig = subw[lfpname].values\n",
    "        cwtmatr = cwt(sig, morlet2, widths)\n",
    "        gather_spectros[window,:] = np.abs(cwtmatr)\n",
    "\n",
    "        #gather the zscored normalized versions too\n",
    "        gather_z_spectros[window,:] = zscore_spectrogram(cwtmatr)\n",
    "\n",
    "        #gather the theta-filtered signals\n",
    "        gather_theta_filts[window,:] = subw[lfpname+'filt_theta'].values\n",
    "        \n",
    "    #now plot it!\n",
    "    fig,ax=plt.subplots(figsize=(20,6))\n",
    "    \n",
    "    plotting_range = np.arange(plot_pre_post_wintime,3*plot_pre_post_wintime)\n",
    "    if plot_raw_or_z == 'zscored': \n",
    "\n",
    "        t = np.arange(-plot_pre_post_wintime,plot_pre_post_wintime)\n",
    "        meanspec = gather_z_spectros[:,:,plotting_range].mean(axis=0)\n",
    "        \n",
    "        if cmin == []:\n",
    "        \n",
    "            cmin = -meanspec.max()\n",
    "            cmax = meanspec.max()\n",
    "        \n",
    "        g = ax.pcolormesh(t, freq, meanspec, \n",
    "                             cmap=colormap,vmin=cmin,vmax=cmax,\n",
    "                             shading='gouraud')\n",
    "    \n",
    "    elif plot_raw_or_z == 'raw':\n",
    "        t = np.arange(-plot_pre_post_wintime,plot_pre_post_wintime)\n",
    "        meanspec = gather_spectros[:,:,plotting_range].mean(axis=0)\n",
    "        \n",
    "        if cmin == []:\n",
    "        \n",
    "            cmin = -meanspec.max()\n",
    "            cmax = meanspec.max()\n",
    "        \n",
    "        g = ax.pcolormesh(t, freq, meanspec, \n",
    "                             cmap=colormap,\n",
    "                             shading='gouraud')\n",
    "        \n",
    "\n",
    "    ax.set_ylim(1,plot_maxfreq)\n",
    "    fig.colorbar(g)\n",
    "\n",
    "    x = (subw.index[plotting_range] - min(subw.index[plotting_range])) - (max(subw.index[plotting_range] - min(subw.index[plotting_range]))/2)\n",
    "    ax_ = ax.twinx()\n",
    "    ax_.grid(False)\n",
    "    ax_.plot(x,gather_theta_filts[:,plotting_range].mean(axis=0),color='white',linewidth=5)\n",
    "    \n",
    "    ax.set_xlim(t[0],t[-1])\n",
    "\n",
    "    fig.tight_layout()\n",
    "    \n",
    "#     if savefig:\n",
    "#         ratsession = df['ratsession_id'].iloc[0]\n",
    "#         figname = ratsession + '_' + lfpname + '_meanspec_fullsession.pdf'\n",
    "#         fig.savefig('figures_approach/spectrograms/'+figname)\n",
    "    \n",
    "    meantheta = gather_theta_filts[:,plotting_range].mean(axis=0)\n",
    "    \n",
    "\n",
    "    return meanspec, t, freq, meantheta\n",
    "\n"
   ]
  },
  {
   "cell_type": "markdown",
   "id": "d75ea6ca",
   "metadata": {},
   "source": [
    "## make dataframes containing the phase of each rhythm along with the corresponding lfps"
   ]
  },
  {
   "cell_type": "markdown",
   "id": "69fc2ea9",
   "metadata": {},
   "source": [
    "##### odor sampling"
   ]
  },
  {
   "cell_type": "code",
   "execution_count": 6,
   "id": "03081b51",
   "metadata": {},
   "outputs": [
    {
     "data": {
      "application/vnd.jupyter.widget-view+json": {
       "model_id": "ac21fa66319c4902b4f1bcb0ba136f60",
       "version_major": 2,
       "version_minor": 0
      },
      "text/plain": [
       "  0%|          | 0/18 [00:00<?, ?it/s]"
      ]
     },
     "metadata": {},
     "output_type": "display_data"
    }
   ],
   "source": [
    "datapath = 'python_spkphase_odorsamp/'\n",
    "files = os.listdir(datapath)\n",
    "files = [f for f in files if not f.startswith('.')]\n",
    "files = sorted(files)\n",
    "\n",
    "gather_df = []\n",
    "for file in tqdm(files,colour='cornflowerblue'): \n",
    "    \n",
    "    ratsession_id = file.split('_')[0] + '_' + file.split('_')[1]\n",
    "    \n",
    "    df = pd.read_csv(os.path.join(datapath,file))\n",
    "    odorsamp_df = df[df['trial_segment']=='dur']\n",
    "    \n",
    "    #find the lfp columns in this dataframe\n",
    "    lfp_cols = get_lfp_cols(odorsamp_df,'TETFP\\d{2}$')\n",
    "    \n",
    "    lfp_vars = []\n",
    "    for lfpname in lfp_cols: \n",
    "        \n",
    "        lfp = odorsamp_df[lfpname].values\n",
    "        lfp_vars.append(pd.DataFrame({lfpname: lfp}))\n",
    "    \n",
    "      \n",
    "    lfpdf = pd.concat(lfp_vars,axis=1)\n",
    "\n",
    "    \n",
    "    filtered_cols = get_lfp_cols(odorsamp_df,'TETFP\\d{2}.')\n",
    "    filtered_sigs = []\n",
    "    for filtname in filtered_cols: \n",
    " \n",
    "        filtered = odorsamp_df[filtname].values\n",
    "        filtered_sigs.append(pd.DataFrame({filtname: filtered.T}))\n",
    "   \n",
    "    filtdf = pd.concat(filtered_sigs,axis=1)\n",
    "\n",
    "    \n",
    "    phase_cols = []\n",
    "    amp_cols = []\n",
    "    for filtname in filtered_cols: \n",
    "        \n",
    "        filtered = odorsamp_df[filtname].values\n",
    "        analytic = hilbert(filtered)\n",
    "        \n",
    "        amp_varname = ratsession_id + '_' + filtname.split('filt')[0] + 'amp_' + filtname.split('_')[1]   \n",
    "        amps = np.abs(analytic)\n",
    "        amp_cols.append(pd.DataFrame({amp_varname: amps.T}))\n",
    "        \n",
    "\n",
    "        if filtname.split('_')[1] == 'theta':\n",
    "            \n",
    "            phase_varname = filtname.split('filt')[0] + 'phase_' + filtname.split('_')[1]\n",
    "            \n",
    "            phases = np.arctan2(analytic.imag,filtered)\n",
    "            phase_cols.append(pd.DataFrame({phase_varname: phases.T}))\n",
    "\n",
    "    phasedf = pd.concat(phase_cols,axis=1)\n",
    "\n",
    "    \n",
    "    if len(amp_cols) > 1: \n",
    "        ampdf = pd.concat(amp_cols,axis=1)\n",
    "    else:\n",
    "        ampdf = amp_cols\n",
    "\n",
    "    #add the metadata in case you want to subset by it later\n",
    "    odor_block_labels = odorsamp_df['odor_block_labels'].values\n",
    "    odor_labels = odorsamp_df['odor_labels'].values\n",
    "    pos_labels = odorsamp_df['pos_labels'].values\n",
    "    trial_labels = odorsamp_df['trial_labels'].values\n",
    "    quarter_labels = odorsamp_df['quarter_labels'].values\n",
    "    accuracies = odorsamp_df['accuracy'].values\n",
    "    \n",
    "    #organize your metadata\n",
    "    metadatadf = pd.DataFrame({'ratsession_id': np.repeat(ratsession_id,len(trial_labels)),\n",
    "                               'odor_block_labels': odor_block_labels,\n",
    "                               'quarter_labels': quarter_labels,\n",
    "                               'odor_labels': odor_labels,\n",
    "                               'pos_labels': pos_labels,\n",
    "                               'accuracy': accuracies,\n",
    "                               'trial_labels': trial_labels\n",
    "                              })\n",
    "    \n",
    "    #now put them all together \n",
    "    #now put them all together \n",
    "    tmp = pd.concat([metadatadf,lfpdf,phasedf,filtdf,ampdf],axis=1)\n",
    "    gather_df.append(tmp)\n",
    "\n",
    "all_lfp_odorsamp = pd.concat(gather_df)"
   ]
  },
  {
   "cell_type": "markdown",
   "id": "1b011808",
   "metadata": {},
   "source": [
    "##### approach"
   ]
  },
  {
   "cell_type": "code",
   "execution_count": 7,
   "id": "64653df2",
   "metadata": {},
   "outputs": [
    {
     "data": {
      "application/vnd.jupyter.widget-view+json": {
       "model_id": "0783b18d1a254fe29598b873c5e8c4aa",
       "version_major": 2,
       "version_minor": 0
      },
      "text/plain": [
       "  0%|          | 0/18 [00:00<?, ?it/s]"
      ]
     },
     "metadata": {},
     "output_type": "display_data"
    }
   ],
   "source": [
    "datapath = 'python_spkphase_approach/'\n",
    "files = os.listdir(datapath)\n",
    "files = [f for f in files if not f.startswith('.')]\n",
    "files = sorted(files)\n",
    "\n",
    "gather_df = []\n",
    "for file in tqdm(files,colour='cornflowerblue'): \n",
    "    \n",
    "    ratsession_id = file.split('_')[0] + '_' + file.split('_')[1]\n",
    "    \n",
    "    df = pd.read_csv(os.path.join(datapath,file))\n",
    "    odorsamp_df = df[df['trial_segment']=='dur']\n",
    "    \n",
    "    #find the lfp columns in this dataframe\n",
    "    lfp_cols = get_lfp_cols(odorsamp_df,'TETFP\\d{2}$')\n",
    "    \n",
    "    lfp_vars = []\n",
    "    for lfpname in lfp_cols: \n",
    "        \n",
    "        lfp = odorsamp_df[lfpname].values\n",
    "        lfp_vars.append(pd.DataFrame({lfpname: lfp}))\n",
    "    \n",
    "      \n",
    "    lfpdf = pd.concat(lfp_vars,axis=1)\n",
    "\n",
    "    \n",
    "    filtered_cols = get_lfp_cols(odorsamp_df,'TETFP\\d{2}.')\n",
    "    filtered_sigs = []\n",
    "    for filtname in filtered_cols: \n",
    " \n",
    "        filtered = odorsamp_df[filtname].values\n",
    "        filtered_sigs.append(pd.DataFrame({filtname: filtered.T}))\n",
    "   \n",
    "    filtdf = pd.concat(filtered_sigs,axis=1)\n",
    "\n",
    "    \n",
    "    phase_cols = []\n",
    "    amp_cols = []\n",
    "    for filtname in filtered_cols: \n",
    "        \n",
    "        filtered = odorsamp_df[filtname].values\n",
    "        analytic = hilbert(filtered)\n",
    "        \n",
    "        amp_varname = ratsession_id + '_' + filtname.split('filt')[0] + 'amp_' + filtname.split('_')[1]   \n",
    "        amps = np.abs(analytic)\n",
    "        amp_cols.append(pd.DataFrame({amp_varname: amps.T}))\n",
    "        \n",
    "\n",
    "        if filtname.split('_')[1] == 'theta':\n",
    "            \n",
    "            phase_varname = filtname.split('filt')[0] + 'phase_' + filtname.split('_')[1]\n",
    "            \n",
    "            phases = np.arctan2(analytic.imag,filtered)\n",
    "            phase_cols.append(pd.DataFrame({phase_varname: phases.T}))\n",
    "\n",
    "    phasedf = pd.concat(phase_cols,axis=1)\n",
    "\n",
    "    \n",
    "    if len(amp_cols) > 1: \n",
    "        ampdf = pd.concat(amp_cols,axis=1)\n",
    "    else:\n",
    "        ampdf = amp_cols\n",
    "\n",
    "    #add the metadata in case you want to subset by it later\n",
    "    odor_block_labels = odorsamp_df['odor_block_labels'].values\n",
    "    odor_labels = odorsamp_df['odor_labels'].values\n",
    "    pos_labels = odorsamp_df['pos_labels'].values\n",
    "    trial_labels = odorsamp_df['trial_labels'].values\n",
    "    quarter_labels = odorsamp_df['quarter_labels'].values\n",
    "    accuracies = odorsamp_df['accuracy'].values\n",
    "    \n",
    "    #organize your metadata\n",
    "    metadatadf = pd.DataFrame({'ratsession_id': np.repeat(ratsession_id,len(trial_labels)),\n",
    "                               'odor_block_labels': odor_block_labels,\n",
    "                               'quarter_labels': quarter_labels,\n",
    "                               'odor_labels': odor_labels,\n",
    "                               'pos_labels': pos_labels,\n",
    "                               'accuracy': accuracies,\n",
    "                               'trial_labels': trial_labels\n",
    "                              })\n",
    "    \n",
    "    #now put them all together \n",
    "    #now put them all together \n",
    "    tmp = pd.concat([metadatadf,lfpdf,phasedf,filtdf,ampdf],axis=1)\n",
    "    gather_df.append(tmp)\n",
    "\n",
    "all_lfp_approach = pd.concat(gather_df)"
   ]
  },
  {
   "cell_type": "markdown",
   "id": "fc60b6e4",
   "metadata": {},
   "source": [
    "## get the distribution of low gamma amplitudes \n"
   ]
  },
  {
   "cell_type": "markdown",
   "id": "83eec3f9",
   "metadata": {},
   "source": [
    "You'll get all the LFP amplitude column names from the odor sampling dataframe, because this one contains 30, rather than 31 neurons; one neuron just didn't fire at all during odor sampling, so we drop that neuron from odor sampling analyses. Since you're about to do a repeated measures statistical comparison, downsample to the rate limiting dataset. "
   ]
  },
  {
   "cell_type": "code",
   "execution_count": 12,
   "id": "f087544c",
   "metadata": {},
   "outputs": [
    {
     "name": "stdout",
     "output_type": "stream",
     "text": [
      "30\n"
     ]
    }
   ],
   "source": [
    "lowgamma_cols = [c for c in all_lfp_odorsamp.columns if c.endswith('amp_lowgamma')]\n",
    "nwires = len(lowgamma_cols)\n",
    "\n",
    "print(nwires)"
   ]
  },
  {
   "cell_type": "markdown",
   "id": "3ca63c8e",
   "metadata": {},
   "source": [
    "grab all the LFP amplitude columns per neuron/LFP combination"
   ]
  },
  {
   "cell_type": "code",
   "execution_count": 9,
   "id": "bf5ae1ab",
   "metadata": {},
   "outputs": [],
   "source": [
    "amps_odorsamp = []\n",
    "for amp_col in lowgamma_cols: \n",
    "    \n",
    "    amps_odorsamp.append(all_lfp_odorsamp[amp_col].dropna().values)\n",
    "    \n",
    "flat_amps_odorsamp = [item for sublist in amps_odorsamp for item in sublist]"
   ]
  },
  {
   "cell_type": "code",
   "execution_count": 10,
   "id": "b8bf5045",
   "metadata": {},
   "outputs": [],
   "source": [
    "amps_approach = []\n",
    "for amp_col in lowgamma_cols: \n",
    "    \n",
    "    amps_approach.append(all_lfp_approach[amp_col].dropna().values)\n",
    "    \n",
    "flat_amps_approach = [item for sublist in amps_approach for item in sublist]"
   ]
  },
  {
   "cell_type": "markdown",
   "id": "02d5ee76",
   "metadata": {},
   "source": [
    "## compare _mean_ low gamma amplitudes across wires"
   ]
  },
  {
   "cell_type": "code",
   "execution_count": 13,
   "id": "67c5b677",
   "metadata": {},
   "outputs": [],
   "source": [
    "means_odorsamp = []\n",
    "means_approach = []\n",
    "for wire in range(nwires): \n",
    "    \n",
    "    means_odorsamp.append(np.mean(amps_odorsamp[wire]))\n",
    "    means_approach.append(np.mean(amps_approach[wire]))"
   ]
  },
  {
   "cell_type": "code",
   "execution_count": 14,
   "id": "4d405987",
   "metadata": {},
   "outputs": [
    {
     "data": {
      "text/plain": [
       "Text(1.3, 0.2, 'p=-1.1202')"
      ]
     },
     "execution_count": 14,
     "metadata": {},
     "output_type": "execute_result"
    },
    {
     "data": {
      "image/png": "[encoded data removed]",
      "text/plain": [
       "<Figure size 300x300 with 1 Axes>"
      ]
     },
     "metadata": {
      "image/png": {
       "height": 303,
       "width": 313
      }
     },
     "output_type": "display_data"
    }
   ],
   "source": [
    "fig, ax = plt.subplots(figsize=(3,3))\n",
    "    \n",
    "ax.boxplot([means_odorsamp, means_approach])\n",
    "ax.set_xticklabels(['odor','approach'])\n",
    "\n",
    "tstat,pval = stats.ttest_rel(means_odorsamp,means_approach,alternative='two-sided')\n",
    "ax.text(s='p='+str(round(pval,4)),x=1.3,y=0.25,fontsize=12)\n",
    "ax.text(s='p='+str(round(tstat,4)),x=1.3,y=0.2,fontsize=12)"
   ]
  },
  {
   "cell_type": "markdown",
   "id": "ffda0faf",
   "metadata": {},
   "source": [
    "## compare _median_ low gamma amplitudes across wires\n",
    "Just in case the mean is getting pulled wildly by outlier amplitudes within some sessions (e.g. noisier sessions)."
   ]
  },
  {
   "cell_type": "code",
   "execution_count": 15,
   "id": "4e8f8060",
   "metadata": {},
   "outputs": [],
   "source": [
    "medians_odorsamp = []\n",
    "medians_approach = []\n",
    "for wire in range(nwires): \n",
    "    \n",
    "    medians_odorsamp.append(np.median(amps_odorsamp[wire]))\n",
    "    medians_approach.append(np.median(amps_approach[wire]))"
   ]
  },
  {
   "cell_type": "code",
   "execution_count": 16,
   "id": "93178950",
   "metadata": {},
   "outputs": [
    {
     "data": {
      "text/plain": [
       "Text(1.3, 0.1, 't=1.0909')"
      ]
     },
     "execution_count": 16,
     "metadata": {},
     "output_type": "execute_result"
    },
    {
     "data": {
      "image/png": "[encoded data removed]",
      "text/plain": [
       "<Figure size 300x300 with 1 Axes>"
      ]
     },
     "metadata": {
      "image/png": {
       "height": 292,
       "width": 330
      }
     },
     "output_type": "display_data"
    }
   ],
   "source": [
    "fig, ax = plt.subplots(figsize=(3,3))\n",
    "    \n",
    "ax.boxplot([medians_odorsamp, medians_approach])\n",
    "ax.set_xticklabels(['odor','approach'])\n",
    "\n",
    "tstat,pval = stats.ttest_rel(medians_odorsamp,medians_approach,alternative='two-sided')\n",
    "ax.text(s='p='+str(round(pval,4)),x=1.3,y=0.15,fontsize=12)\n",
    "ax.text(s='t='+str(round(tstat,4)),x=1.3,y=0.1,fontsize=12)"
   ]
  },
  {
   "cell_type": "code",
   "execution_count": null,
   "id": "1048bb26",
   "metadata": {},
   "outputs": [],
   "source": []
  }
 ],
 "metadata": {
  "kernelspec": {
   "display_name": "Python 3 (ipykernel)",
   "language": "python",
   "name": "python3"
  },
  "language_info": {
   "codemirror_mode": {
    "name": "ipython",
    "version": 3
   },
   "file_extension": ".py",
   "mimetype": "text/x-python",
   "name": "python",
   "nbconvert_exporter": "python",
   "pygments_lexer": "ipython3",
   "version": "3.9.13"
  }
 },
 "nbformat": 4,
 "nbformat_minor": 5
}
